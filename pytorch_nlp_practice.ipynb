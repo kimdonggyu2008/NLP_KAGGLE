{
  "nbformat": 4,
  "nbformat_minor": 0,
  "metadata": {
    "colab": {
      "provenance": [],
      "authorship_tag": "ABX9TyOC4RIsC9+jTkyWnu/U7DLY",
      "include_colab_link": true
    },
    "kernelspec": {
      "name": "python3",
      "display_name": "Python 3"
    },
    "language_info": {
      "name": "python"
    }
  },
  "cells": [
    {
      "cell_type": "markdown",
      "metadata": {
        "id": "view-in-github",
        "colab_type": "text"
      },
      "source": [
        "<a href=\"https://colab.research.google.com/github/kimdonggyu2008/NLP_KAGGLE/blob/main/pytorch_nlp_practice.ipynb\" target=\"_parent\"><img src=\"https://colab.research.google.com/assets/colab-badge.svg\" alt=\"Open In Colab\"/></a>"
      ]
    },
    {
      "cell_type": "code",
      "source": [
        "!pip install jamo"
      ],
      "metadata": {
        "colab": {
          "base_uri": "https://localhost:8080/"
        },
        "id": "pHGtvXzDuuIk",
        "outputId": "91409e2b-bdc4-4c14-9aee-4350978ceb82"
      },
      "execution_count": null,
      "outputs": [
        {
          "output_type": "stream",
          "name": "stdout",
          "text": [
            "Collecting jamo\n",
            "  Downloading jamo-0.4.1-py3-none-any.whl (9.5 kB)\n",
            "Installing collected packages: jamo\n",
            "Successfully installed jamo-0.4.1\n"
          ]
        }
      ]
    },
    {
      "cell_type": "code",
      "source": [
        "from jamo import h2j,j2hcj"
      ],
      "metadata": {
        "id": "eCFTUEebuy5b"
      },
      "execution_count": null,
      "outputs": []
    },
    {
      "cell_type": "code",
      "source": [
        "jamo"
      ],
      "metadata": {
        "colab": {
          "base_uri": "https://localhost:8080/"
        },
        "id": "OtR5bO-Zvhp0",
        "outputId": "c2890cce-d579-475c-c8c6-2b88b2a0c3ab"
      },
      "execution_count": null,
      "outputs": [
        {
          "output_type": "execute_result",
          "data": {
            "text/plain": [
              "<module 'jamo' from '/usr/local/lib/python3.10/dist-packages/jamo/__init__.py'>"
            ]
          },
          "metadata": {},
          "execution_count": 8
        }
      ]
    },
    {
      "cell_type": "code",
      "execution_count": null,
      "metadata": {
        "id": "gzqyYdDpuWnU"
      },
      "outputs": [],
      "source": [
        "review=\"현실과 구별 불가능한 cg\""
      ]
    },
    {
      "cell_type": "code",
      "source": [
        "tokenized=list(review)\n",
        "tokenized"
      ],
      "metadata": {
        "colab": {
          "base_uri": "https://localhost:8080/"
        },
        "id": "uhV6LvgLuhZ7",
        "outputId": "927174ed-f676-4c05-d2db-b6761270188a"
      },
      "execution_count": null,
      "outputs": [
        {
          "output_type": "execute_result",
          "data": {
            "text/plain": [
              "['현', '실', '과', ' ', '구', '별', ' ', '불', '가', '능', '한', ' ', 'c', 'g']"
            ]
          },
          "metadata": {},
          "execution_count": 3
        }
      ]
    },
    {
      "cell_type": "code",
      "source": [
        "from jamo import h2j, j2hcj\n",
        "sample_text = \"가나다한글\"\n",
        "j2hcj(h2j(sample_text))"
      ],
      "metadata": {
        "id": "I3huaHpfutAr"
      },
      "execution_count": null,
      "outputs": []
    },
    {
      "cell_type": "code",
      "source": [
        "!pip install konlpy"
      ],
      "metadata": {
        "colab": {
          "base_uri": "https://localhost:8080/"
        },
        "id": "ebDt7bj22jA9",
        "outputId": "52d8be64-19b5-47f9-e4b9-bd305ef34fd2"
      },
      "execution_count": null,
      "outputs": [
        {
          "output_type": "stream",
          "name": "stdout",
          "text": [
            "Collecting konlpy\n",
            "  Downloading konlpy-0.6.0-py2.py3-none-any.whl (19.4 MB)\n",
            "\u001b[2K     \u001b[90m━━━━━━━━━━━━━━━━━━━━━━━━━━━━━━━━━━━━━━━━\u001b[0m \u001b[32m19.4/19.4 MB\u001b[0m \u001b[31m33.8 MB/s\u001b[0m eta \u001b[36m0:00:00\u001b[0m\n",
            "\u001b[?25hCollecting JPype1>=0.7.0 (from konlpy)\n",
            "  Downloading JPype1-1.5.0-cp310-cp310-manylinux_2_17_x86_64.manylinux2014_x86_64.whl (488 kB)\n",
            "\u001b[2K     \u001b[90m━━━━━━━━━━━━━━━━━━━━━━━━━━━━━━━━━━━━━━━━\u001b[0m \u001b[32m488.6/488.6 kB\u001b[0m \u001b[31m35.3 MB/s\u001b[0m eta \u001b[36m0:00:00\u001b[0m\n",
            "\u001b[?25hRequirement already satisfied: lxml>=4.1.0 in /usr/local/lib/python3.10/dist-packages (from konlpy) (4.9.4)\n",
            "Requirement already satisfied: numpy>=1.6 in /usr/local/lib/python3.10/dist-packages (from konlpy) (1.25.2)\n",
            "Requirement already satisfied: packaging in /usr/local/lib/python3.10/dist-packages (from JPype1>=0.7.0->konlpy) (24.1)\n",
            "Installing collected packages: JPype1, konlpy\n",
            "Successfully installed JPype1-1.5.0 konlpy-0.6.0\n"
          ]
        }
      ]
    },
    {
      "cell_type": "code",
      "source": [
        "from konlpy.tag import Okt\n",
        "\n",
        "okt=Okt()\n",
        "sentence=\"상상하라. 이루어 질 것이다\"\n",
        "\n",
        "nouns=okt.nouns(sentence)\n",
        "\n",
        "phrases=okt.phrases(sentence)\n",
        "morphs=okt.morphs(sentence)"
      ],
      "metadata": {
        "id": "ZO4vPx2z2mBV"
      },
      "execution_count": null,
      "outputs": []
    },
    {
      "cell_type": "code",
      "source": [
        "nouns\n",
        "\n"
      ],
      "metadata": {
        "colab": {
          "base_uri": "https://localhost:8080/"
        },
        "id": "UNVO4OuE2-09",
        "outputId": "60072024-df3c-4cdf-f12d-255436b14110"
      },
      "execution_count": null,
      "outputs": [
        {
          "output_type": "execute_result",
          "data": {
            "text/plain": [
              "['상상', '하라', '질', '것']"
            ]
          },
          "metadata": {},
          "execution_count": 19
        }
      ]
    },
    {
      "cell_type": "code",
      "source": [
        "phrases"
      ],
      "metadata": {
        "colab": {
          "base_uri": "https://localhost:8080/"
        },
        "id": "LUPn9xcw3GmF",
        "outputId": "194001a3-b793-4a0c-d9f7-1c9d93d1d059"
      },
      "execution_count": null,
      "outputs": [
        {
          "output_type": "execute_result",
          "data": {
            "text/plain": [
              "['상상하라', '상상', '하라']"
            ]
          },
          "metadata": {},
          "execution_count": 20
        }
      ]
    },
    {
      "cell_type": "code",
      "source": [
        "morphs"
      ],
      "metadata": {
        "colab": {
          "base_uri": "https://localhost:8080/"
        },
        "id": "fjmSICt13JKN",
        "outputId": "a7d6a5f0-8293-4458-9111-09b7e3c0cd2a"
      },
      "execution_count": null,
      "outputs": [
        {
          "output_type": "execute_result",
          "data": {
            "text/plain": [
              "['상상', '하라', '.', '이루어', '질', '것', '이다']"
            ]
          },
          "metadata": {},
          "execution_count": 21
        }
      ]
    },
    {
      "cell_type": "code",
      "source": [
        "!pip install KKma"
      ],
      "metadata": {
        "colab": {
          "base_uri": "https://localhost:8080/"
        },
        "id": "qRK2Y2X45300",
        "outputId": "ddf590d5-fe15-4b33-d597-d31451c66bc7"
      },
      "execution_count": null,
      "outputs": [
        {
          "output_type": "stream",
          "name": "stdout",
          "text": [
            "\u001b[31mERROR: Could not find a version that satisfies the requirement KKma (from versions: none)\u001b[0m\u001b[31m\n",
            "\u001b[0m\u001b[31mERROR: No matching distribution found for KKma\u001b[0m\u001b[31m\n",
            "\u001b[0m"
          ]
        }
      ]
    },
    {
      "cell_type": "code",
      "source": [
        "from konlpy.tag import KKma"
      ],
      "metadata": {
        "colab": {
          "base_uri": "https://localhost:8080/",
          "height": 349
        },
        "id": "44lT036G3JbF",
        "outputId": "51796e87-eba6-4ddb-ed49-327df0f3a070"
      },
      "execution_count": null,
      "outputs": [
        {
          "output_type": "error",
          "ename": "ImportError",
          "evalue": "cannot import name 'KKma' from 'konlpy.tag' (/usr/local/lib/python3.10/dist-packages/konlpy/tag/__init__.py)",
          "traceback": [
            "\u001b[0;31m---------------------------------------------------------------------------\u001b[0m",
            "\u001b[0;31mImportError\u001b[0m                               Traceback (most recent call last)",
            "\u001b[0;32m<ipython-input-23-3e83a9a1d17d>\u001b[0m in \u001b[0;36m<cell line: 1>\u001b[0;34m()\u001b[0m\n\u001b[0;32m----> 1\u001b[0;31m \u001b[0;32mfrom\u001b[0m \u001b[0mkonlpy\u001b[0m\u001b[0;34m.\u001b[0m\u001b[0mtag\u001b[0m \u001b[0;32mimport\u001b[0m \u001b[0mKKma\u001b[0m\u001b[0;34m\u001b[0m\u001b[0;34m\u001b[0m\u001b[0m\n\u001b[0m",
            "\u001b[0;31mImportError\u001b[0m: cannot import name 'KKma' from 'konlpy.tag' (/usr/local/lib/python3.10/dist-packages/konlpy/tag/__init__.py)",
            "",
            "\u001b[0;31m---------------------------------------------------------------------------\u001b[0;32m\nNOTE: If your import is failing due to a missing package, you can\nmanually install dependencies using either !pip or !apt.\n\nTo view examples of installing some common dependencies, click the\n\"Open Examples\" button below.\n\u001b[0;31m---------------------------------------------------------------------------\u001b[0m\n"
          ],
          "errorDetails": {
            "actions": [
              {
                "action": "open_url",
                "actionText": "Open Examples",
                "url": "/notebooks/snippets/importing_libraries.ipynb"
              }
            ]
          }
        }
      ]
    },
    {
      "cell_type": "code",
      "source": [
        "!pip install nltk"
      ],
      "metadata": {
        "colab": {
          "base_uri": "https://localhost:8080/"
        },
        "id": "MF25VX2o3Rf1",
        "outputId": "74cd1f9a-658f-4e17-b66d-997a9950bc28"
      },
      "execution_count": null,
      "outputs": [
        {
          "output_type": "stream",
          "name": "stdout",
          "text": [
            "Requirement already satisfied: nltk in /usr/local/lib/python3.10/dist-packages (3.8.1)\n",
            "Requirement already satisfied: click in /usr/local/lib/python3.10/dist-packages (from nltk) (8.1.7)\n",
            "Requirement already satisfied: joblib in /usr/local/lib/python3.10/dist-packages (from nltk) (1.4.2)\n",
            "Requirement already satisfied: regex>=2021.8.3 in /usr/local/lib/python3.10/dist-packages (from nltk) (2024.5.15)\n",
            "Requirement already satisfied: tqdm in /usr/local/lib/python3.10/dist-packages (from nltk) (4.66.4)\n"
          ]
        }
      ]
    },
    {
      "cell_type": "markdown",
      "source": [
        "영어 토크나이저\n"
      ],
      "metadata": {
        "id": "5RyRtqWJC3IK"
      }
    },
    {
      "cell_type": "code",
      "source": [
        "import nltk\n",
        "\n",
        "nltk.download(\"punkt\")\n",
        "nltk.download(\"averaged_perceptron_tagger\")"
      ],
      "metadata": {
        "colab": {
          "base_uri": "https://localhost:8080/"
        },
        "id": "0-kIbu6m6wKS",
        "outputId": "62f4cbc5-cb46-46fc-8848-f1c95b075a35"
      },
      "execution_count": null,
      "outputs": [
        {
          "output_type": "stream",
          "name": "stderr",
          "text": [
            "[nltk_data] Downloading package punkt to /root/nltk_data...\n",
            "[nltk_data]   Unzipping tokenizers/punkt.zip.\n",
            "[nltk_data] Downloading package averaged_perceptron_tagger to\n",
            "[nltk_data]     /root/nltk_data...\n",
            "[nltk_data]   Unzipping taggers/averaged_perceptron_tagger.zip.\n"
          ]
        },
        {
          "output_type": "execute_result",
          "data": {
            "text/plain": [
              "True"
            ]
          },
          "metadata": {},
          "execution_count": 26
        }
      ]
    },
    {
      "cell_type": "code",
      "source": [
        "from nltk import tokenize\n",
        "from nltk import tag\n",
        "sentence=\"those can imagine anything. can create the impossible\"\n",
        "\n",
        "word_tokens=tokenize.word_tokenize(sentence)\n",
        "sent_tokens=tokenize.sent_tokenize(sentence)\n",
        "\n",
        "print(word_tokens)\n",
        "print(sent_tokens)"
      ],
      "metadata": {
        "colab": {
          "base_uri": "https://localhost:8080/"
        },
        "id": "Se5UsIsg7aZD",
        "outputId": "b60ac6e5-c630-42e9-8f8f-0b5d25e201c1"
      },
      "execution_count": null,
      "outputs": [
        {
          "output_type": "stream",
          "name": "stdout",
          "text": [
            "['those', 'can', 'imagine', 'anything', '.', 'can', 'create', 'the', 'impossible']\n",
            "['those can imagine anything.', 'can create the impossible']\n"
          ]
        }
      ]
    },
    {
      "cell_type": "code",
      "source": [
        "pos=tag.pos_tag(word_tokens)\n",
        "print(pos)"
      ],
      "metadata": {
        "colab": {
          "base_uri": "https://localhost:8080/"
        },
        "id": "4fnWvClG_c8T",
        "outputId": "7f9036f1-0004-4107-f671-301aae317628"
      },
      "execution_count": null,
      "outputs": [
        {
          "output_type": "stream",
          "name": "stdout",
          "text": [
            "[('those', 'DT'), ('can', 'MD'), ('imagine', 'VB'), ('anything', 'NN'), ('.', '.'), ('can', 'MD'), ('create', 'VB'), ('the', 'DT'), ('impossible', 'JJ')]\n"
          ]
        }
      ]
    },
    {
      "cell_type": "markdown",
      "source": [
        "spacy 라이블리\n"
      ],
      "metadata": {
        "id": "hKQRkabMC5xp"
      }
    },
    {
      "cell_type": "code",
      "source": [
        "!pip install spacy\n",
        "!python -m spacy download en_core_web_sm"
      ],
      "metadata": {
        "colab": {
          "base_uri": "https://localhost:8080/"
        },
        "id": "fa-s2W_YAHdC",
        "outputId": "39f070c3-3cb8-4dea-901b-e553665fa5de"
      },
      "execution_count": null,
      "outputs": [
        {
          "output_type": "stream",
          "name": "stdout",
          "text": [
            "Requirement already satisfied: spacy in /usr/local/lib/python3.10/dist-packages (3.7.5)\n",
            "Requirement already satisfied: spacy-legacy<3.1.0,>=3.0.11 in /usr/local/lib/python3.10/dist-packages (from spacy) (3.0.12)\n",
            "Requirement already satisfied: spacy-loggers<2.0.0,>=1.0.0 in /usr/local/lib/python3.10/dist-packages (from spacy) (1.0.5)\n",
            "Requirement already satisfied: murmurhash<1.1.0,>=0.28.0 in /usr/local/lib/python3.10/dist-packages (from spacy) (1.0.10)\n",
            "Requirement already satisfied: cymem<2.1.0,>=2.0.2 in /usr/local/lib/python3.10/dist-packages (from spacy) (2.0.8)\n",
            "Requirement already satisfied: preshed<3.1.0,>=3.0.2 in /usr/local/lib/python3.10/dist-packages (from spacy) (3.0.9)\n",
            "Requirement already satisfied: thinc<8.3.0,>=8.2.2 in /usr/local/lib/python3.10/dist-packages (from spacy) (8.2.4)\n",
            "Requirement already satisfied: wasabi<1.2.0,>=0.9.1 in /usr/local/lib/python3.10/dist-packages (from spacy) (1.1.3)\n",
            "Requirement already satisfied: srsly<3.0.0,>=2.4.3 in /usr/local/lib/python3.10/dist-packages (from spacy) (2.4.8)\n",
            "Requirement already satisfied: catalogue<2.1.0,>=2.0.6 in /usr/local/lib/python3.10/dist-packages (from spacy) (2.0.10)\n",
            "Requirement already satisfied: weasel<0.5.0,>=0.1.0 in /usr/local/lib/python3.10/dist-packages (from spacy) (0.4.1)\n",
            "Requirement already satisfied: typer<1.0.0,>=0.3.0 in /usr/local/lib/python3.10/dist-packages (from spacy) (0.12.3)\n",
            "Requirement already satisfied: tqdm<5.0.0,>=4.38.0 in /usr/local/lib/python3.10/dist-packages (from spacy) (4.66.4)\n",
            "Requirement already satisfied: requests<3.0.0,>=2.13.0 in /usr/local/lib/python3.10/dist-packages (from spacy) (2.31.0)\n",
            "Requirement already satisfied: pydantic!=1.8,!=1.8.1,<3.0.0,>=1.7.4 in /usr/local/lib/python3.10/dist-packages (from spacy) (2.7.3)\n",
            "Requirement already satisfied: jinja2 in /usr/local/lib/python3.10/dist-packages (from spacy) (3.1.4)\n",
            "Requirement already satisfied: setuptools in /usr/local/lib/python3.10/dist-packages (from spacy) (67.7.2)\n",
            "Requirement already satisfied: packaging>=20.0 in /usr/local/lib/python3.10/dist-packages (from spacy) (24.1)\n",
            "Requirement already satisfied: langcodes<4.0.0,>=3.2.0 in /usr/local/lib/python3.10/dist-packages (from spacy) (3.4.0)\n",
            "Requirement already satisfied: numpy>=1.19.0 in /usr/local/lib/python3.10/dist-packages (from spacy) (1.25.2)\n",
            "Requirement already satisfied: language-data>=1.2 in /usr/local/lib/python3.10/dist-packages (from langcodes<4.0.0,>=3.2.0->spacy) (1.2.0)\n",
            "Requirement already satisfied: annotated-types>=0.4.0 in /usr/local/lib/python3.10/dist-packages (from pydantic!=1.8,!=1.8.1,<3.0.0,>=1.7.4->spacy) (0.7.0)\n",
            "Requirement already satisfied: pydantic-core==2.18.4 in /usr/local/lib/python3.10/dist-packages (from pydantic!=1.8,!=1.8.1,<3.0.0,>=1.7.4->spacy) (2.18.4)\n",
            "Requirement already satisfied: typing-extensions>=4.6.1 in /usr/local/lib/python3.10/dist-packages (from pydantic!=1.8,!=1.8.1,<3.0.0,>=1.7.4->spacy) (4.12.2)\n",
            "Requirement already satisfied: charset-normalizer<4,>=2 in /usr/local/lib/python3.10/dist-packages (from requests<3.0.0,>=2.13.0->spacy) (3.3.2)\n",
            "Requirement already satisfied: idna<4,>=2.5 in /usr/local/lib/python3.10/dist-packages (from requests<3.0.0,>=2.13.0->spacy) (3.7)\n",
            "Requirement already satisfied: urllib3<3,>=1.21.1 in /usr/local/lib/python3.10/dist-packages (from requests<3.0.0,>=2.13.0->spacy) (2.0.7)\n",
            "Requirement already satisfied: certifi>=2017.4.17 in /usr/local/lib/python3.10/dist-packages (from requests<3.0.0,>=2.13.0->spacy) (2024.6.2)\n",
            "Requirement already satisfied: blis<0.8.0,>=0.7.8 in /usr/local/lib/python3.10/dist-packages (from thinc<8.3.0,>=8.2.2->spacy) (0.7.11)\n",
            "Requirement already satisfied: confection<1.0.0,>=0.0.1 in /usr/local/lib/python3.10/dist-packages (from thinc<8.3.0,>=8.2.2->spacy) (0.1.5)\n",
            "Requirement already satisfied: click>=8.0.0 in /usr/local/lib/python3.10/dist-packages (from typer<1.0.0,>=0.3.0->spacy) (8.1.7)\n",
            "Requirement already satisfied: shellingham>=1.3.0 in /usr/local/lib/python3.10/dist-packages (from typer<1.0.0,>=0.3.0->spacy) (1.5.4)\n",
            "Requirement already satisfied: rich>=10.11.0 in /usr/local/lib/python3.10/dist-packages (from typer<1.0.0,>=0.3.0->spacy) (13.7.1)\n",
            "Requirement already satisfied: cloudpathlib<1.0.0,>=0.7.0 in /usr/local/lib/python3.10/dist-packages (from weasel<0.5.0,>=0.1.0->spacy) (0.18.1)\n",
            "Requirement already satisfied: smart-open<8.0.0,>=5.2.1 in /usr/local/lib/python3.10/dist-packages (from weasel<0.5.0,>=0.1.0->spacy) (7.0.4)\n",
            "Requirement already satisfied: MarkupSafe>=2.0 in /usr/local/lib/python3.10/dist-packages (from jinja2->spacy) (2.1.5)\n",
            "Requirement already satisfied: marisa-trie>=0.7.7 in /usr/local/lib/python3.10/dist-packages (from language-data>=1.2->langcodes<4.0.0,>=3.2.0->spacy) (1.2.0)\n",
            "Requirement already satisfied: markdown-it-py>=2.2.0 in /usr/local/lib/python3.10/dist-packages (from rich>=10.11.0->typer<1.0.0,>=0.3.0->spacy) (3.0.0)\n",
            "Requirement already satisfied: pygments<3.0.0,>=2.13.0 in /usr/local/lib/python3.10/dist-packages (from rich>=10.11.0->typer<1.0.0,>=0.3.0->spacy) (2.16.1)\n",
            "Requirement already satisfied: wrapt in /usr/local/lib/python3.10/dist-packages (from smart-open<8.0.0,>=5.2.1->weasel<0.5.0,>=0.1.0->spacy) (1.14.1)\n",
            "Requirement already satisfied: mdurl~=0.1 in /usr/local/lib/python3.10/dist-packages (from markdown-it-py>=2.2.0->rich>=10.11.0->typer<1.0.0,>=0.3.0->spacy) (0.1.2)\n",
            "Collecting en-core-web-sm==3.7.1\n",
            "  Downloading https://github.com/explosion/spacy-models/releases/download/en_core_web_sm-3.7.1/en_core_web_sm-3.7.1-py3-none-any.whl (12.8 MB)\n",
            "\u001b[2K     \u001b[90m━━━━━━━━━━━━━━━━━━━━━━━━━━━━━━━━━━━━━━━━\u001b[0m \u001b[32m12.8/12.8 MB\u001b[0m \u001b[31m46.4 MB/s\u001b[0m eta \u001b[36m0:00:00\u001b[0m\n",
            "\u001b[?25hRequirement already satisfied: spacy<3.8.0,>=3.7.2 in /usr/local/lib/python3.10/dist-packages (from en-core-web-sm==3.7.1) (3.7.5)\n",
            "Requirement already satisfied: spacy-legacy<3.1.0,>=3.0.11 in /usr/local/lib/python3.10/dist-packages (from spacy<3.8.0,>=3.7.2->en-core-web-sm==3.7.1) (3.0.12)\n",
            "Requirement already satisfied: spacy-loggers<2.0.0,>=1.0.0 in /usr/local/lib/python3.10/dist-packages (from spacy<3.8.0,>=3.7.2->en-core-web-sm==3.7.1) (1.0.5)\n",
            "Requirement already satisfied: murmurhash<1.1.0,>=0.28.0 in /usr/local/lib/python3.10/dist-packages (from spacy<3.8.0,>=3.7.2->en-core-web-sm==3.7.1) (1.0.10)\n",
            "Requirement already satisfied: cymem<2.1.0,>=2.0.2 in /usr/local/lib/python3.10/dist-packages (from spacy<3.8.0,>=3.7.2->en-core-web-sm==3.7.1) (2.0.8)\n",
            "Requirement already satisfied: preshed<3.1.0,>=3.0.2 in /usr/local/lib/python3.10/dist-packages (from spacy<3.8.0,>=3.7.2->en-core-web-sm==3.7.1) (3.0.9)\n",
            "Requirement already satisfied: thinc<8.3.0,>=8.2.2 in /usr/local/lib/python3.10/dist-packages (from spacy<3.8.0,>=3.7.2->en-core-web-sm==3.7.1) (8.2.4)\n",
            "Requirement already satisfied: wasabi<1.2.0,>=0.9.1 in /usr/local/lib/python3.10/dist-packages (from spacy<3.8.0,>=3.7.2->en-core-web-sm==3.7.1) (1.1.3)\n",
            "Requirement already satisfied: srsly<3.0.0,>=2.4.3 in /usr/local/lib/python3.10/dist-packages (from spacy<3.8.0,>=3.7.2->en-core-web-sm==3.7.1) (2.4.8)\n",
            "Requirement already satisfied: catalogue<2.1.0,>=2.0.6 in /usr/local/lib/python3.10/dist-packages (from spacy<3.8.0,>=3.7.2->en-core-web-sm==3.7.1) (2.0.10)\n",
            "Requirement already satisfied: weasel<0.5.0,>=0.1.0 in /usr/local/lib/python3.10/dist-packages (from spacy<3.8.0,>=3.7.2->en-core-web-sm==3.7.1) (0.4.1)\n",
            "Requirement already satisfied: typer<1.0.0,>=0.3.0 in /usr/local/lib/python3.10/dist-packages (from spacy<3.8.0,>=3.7.2->en-core-web-sm==3.7.1) (0.12.3)\n",
            "Requirement already satisfied: tqdm<5.0.0,>=4.38.0 in /usr/local/lib/python3.10/dist-packages (from spacy<3.8.0,>=3.7.2->en-core-web-sm==3.7.1) (4.66.4)\n",
            "Requirement already satisfied: requests<3.0.0,>=2.13.0 in /usr/local/lib/python3.10/dist-packages (from spacy<3.8.0,>=3.7.2->en-core-web-sm==3.7.1) (2.31.0)\n",
            "Requirement already satisfied: pydantic!=1.8,!=1.8.1,<3.0.0,>=1.7.4 in /usr/local/lib/python3.10/dist-packages (from spacy<3.8.0,>=3.7.2->en-core-web-sm==3.7.1) (2.7.3)\n",
            "Requirement already satisfied: jinja2 in /usr/local/lib/python3.10/dist-packages (from spacy<3.8.0,>=3.7.2->en-core-web-sm==3.7.1) (3.1.4)\n",
            "Requirement already satisfied: setuptools in /usr/local/lib/python3.10/dist-packages (from spacy<3.8.0,>=3.7.2->en-core-web-sm==3.7.1) (67.7.2)\n",
            "Requirement already satisfied: packaging>=20.0 in /usr/local/lib/python3.10/dist-packages (from spacy<3.8.0,>=3.7.2->en-core-web-sm==3.7.1) (24.1)\n",
            "Requirement already satisfied: langcodes<4.0.0,>=3.2.0 in /usr/local/lib/python3.10/dist-packages (from spacy<3.8.0,>=3.7.2->en-core-web-sm==3.7.1) (3.4.0)\n",
            "Requirement already satisfied: numpy>=1.19.0 in /usr/local/lib/python3.10/dist-packages (from spacy<3.8.0,>=3.7.2->en-core-web-sm==3.7.1) (1.25.2)\n",
            "Requirement already satisfied: language-data>=1.2 in /usr/local/lib/python3.10/dist-packages (from langcodes<4.0.0,>=3.2.0->spacy<3.8.0,>=3.7.2->en-core-web-sm==3.7.1) (1.2.0)\n",
            "Requirement already satisfied: annotated-types>=0.4.0 in /usr/local/lib/python3.10/dist-packages (from pydantic!=1.8,!=1.8.1,<3.0.0,>=1.7.4->spacy<3.8.0,>=3.7.2->en-core-web-sm==3.7.1) (0.7.0)\n",
            "Requirement already satisfied: pydantic-core==2.18.4 in /usr/local/lib/python3.10/dist-packages (from pydantic!=1.8,!=1.8.1,<3.0.0,>=1.7.4->spacy<3.8.0,>=3.7.2->en-core-web-sm==3.7.1) (2.18.4)\n",
            "Requirement already satisfied: typing-extensions>=4.6.1 in /usr/local/lib/python3.10/dist-packages (from pydantic!=1.8,!=1.8.1,<3.0.0,>=1.7.4->spacy<3.8.0,>=3.7.2->en-core-web-sm==3.7.1) (4.12.2)\n",
            "Requirement already satisfied: charset-normalizer<4,>=2 in /usr/local/lib/python3.10/dist-packages (from requests<3.0.0,>=2.13.0->spacy<3.8.0,>=3.7.2->en-core-web-sm==3.7.1) (3.3.2)\n",
            "Requirement already satisfied: idna<4,>=2.5 in /usr/local/lib/python3.10/dist-packages (from requests<3.0.0,>=2.13.0->spacy<3.8.0,>=3.7.2->en-core-web-sm==3.7.1) (3.7)\n",
            "Requirement already satisfied: urllib3<3,>=1.21.1 in /usr/local/lib/python3.10/dist-packages (from requests<3.0.0,>=2.13.0->spacy<3.8.0,>=3.7.2->en-core-web-sm==3.7.1) (2.0.7)\n",
            "Requirement already satisfied: certifi>=2017.4.17 in /usr/local/lib/python3.10/dist-packages (from requests<3.0.0,>=2.13.0->spacy<3.8.0,>=3.7.2->en-core-web-sm==3.7.1) (2024.6.2)\n",
            "Requirement already satisfied: blis<0.8.0,>=0.7.8 in /usr/local/lib/python3.10/dist-packages (from thinc<8.3.0,>=8.2.2->spacy<3.8.0,>=3.7.2->en-core-web-sm==3.7.1) (0.7.11)\n",
            "Requirement already satisfied: confection<1.0.0,>=0.0.1 in /usr/local/lib/python3.10/dist-packages (from thinc<8.3.0,>=8.2.2->spacy<3.8.0,>=3.7.2->en-core-web-sm==3.7.1) (0.1.5)\n",
            "Requirement already satisfied: click>=8.0.0 in /usr/local/lib/python3.10/dist-packages (from typer<1.0.0,>=0.3.0->spacy<3.8.0,>=3.7.2->en-core-web-sm==3.7.1) (8.1.7)\n",
            "Requirement already satisfied: shellingham>=1.3.0 in /usr/local/lib/python3.10/dist-packages (from typer<1.0.0,>=0.3.0->spacy<3.8.0,>=3.7.2->en-core-web-sm==3.7.1) (1.5.4)\n",
            "Requirement already satisfied: rich>=10.11.0 in /usr/local/lib/python3.10/dist-packages (from typer<1.0.0,>=0.3.0->spacy<3.8.0,>=3.7.2->en-core-web-sm==3.7.1) (13.7.1)\n",
            "Requirement already satisfied: cloudpathlib<1.0.0,>=0.7.0 in /usr/local/lib/python3.10/dist-packages (from weasel<0.5.0,>=0.1.0->spacy<3.8.0,>=3.7.2->en-core-web-sm==3.7.1) (0.18.1)\n",
            "Requirement already satisfied: smart-open<8.0.0,>=5.2.1 in /usr/local/lib/python3.10/dist-packages (from weasel<0.5.0,>=0.1.0->spacy<3.8.0,>=3.7.2->en-core-web-sm==3.7.1) (7.0.4)\n",
            "Requirement already satisfied: MarkupSafe>=2.0 in /usr/local/lib/python3.10/dist-packages (from jinja2->spacy<3.8.0,>=3.7.2->en-core-web-sm==3.7.1) (2.1.5)\n",
            "Requirement already satisfied: marisa-trie>=0.7.7 in /usr/local/lib/python3.10/dist-packages (from language-data>=1.2->langcodes<4.0.0,>=3.2.0->spacy<3.8.0,>=3.7.2->en-core-web-sm==3.7.1) (1.2.0)\n",
            "Requirement already satisfied: markdown-it-py>=2.2.0 in /usr/local/lib/python3.10/dist-packages (from rich>=10.11.0->typer<1.0.0,>=0.3.0->spacy<3.8.0,>=3.7.2->en-core-web-sm==3.7.1) (3.0.0)\n",
            "Requirement already satisfied: pygments<3.0.0,>=2.13.0 in /usr/local/lib/python3.10/dist-packages (from rich>=10.11.0->typer<1.0.0,>=0.3.0->spacy<3.8.0,>=3.7.2->en-core-web-sm==3.7.1) (2.16.1)\n",
            "Requirement already satisfied: wrapt in /usr/local/lib/python3.10/dist-packages (from smart-open<8.0.0,>=5.2.1->weasel<0.5.0,>=0.1.0->spacy<3.8.0,>=3.7.2->en-core-web-sm==3.7.1) (1.14.1)\n",
            "Requirement already satisfied: mdurl~=0.1 in /usr/local/lib/python3.10/dist-packages (from markdown-it-py>=2.2.0->rich>=10.11.0->typer<1.0.0,>=0.3.0->spacy<3.8.0,>=3.7.2->en-core-web-sm==3.7.1) (0.1.2)\n",
            "\u001b[38;5;2m✔ Download and installation successful\u001b[0m\n",
            "You can now load the package via spacy.load('en_core_web_sm')\n",
            "\u001b[38;5;3m⚠ Restart to reload dependencies\u001b[0m\n",
            "If you are in a Jupyter or Colab notebook, you may need to restart Python in\n",
            "order to load all the package's dependencies. You can do this by selecting the\n",
            "'Restart kernel' or 'Restart runtime' option.\n"
          ]
        }
      ]
    },
    {
      "cell_type": "code",
      "source": [
        "import spacy\n",
        "\n",
        "nlp=spacy.load(\"en_core_web_sm\")\n",
        "sentence=\"those can imagine anything. can create the impossible\"\n",
        "doc=nlp(sentence)\n",
        "\n",
        "for token in doc:\n",
        "  print(f\"[{token.pos_:5}-{token.tag_:3}]:{token.text}\")"
      ],
      "metadata": {
        "colab": {
          "base_uri": "https://localhost:8080/"
        },
        "id": "2tPOyGCSDEsz",
        "outputId": "05721cb9-9010-4fb2-b37f-7b031e0cdf25"
      },
      "execution_count": null,
      "outputs": [
        {
          "output_type": "stream",
          "name": "stdout",
          "text": [
            "[PRON -DT ]:those\n",
            "[AUX  -MD ]:can\n",
            "[VERB -VB ]:imagine\n",
            "[PRON -NN ]:anything\n",
            "[PUNCT-.  ]:.\n",
            "[AUX  -MD ]:can\n",
            "[VERB -VB ]:create\n",
            "[DET  -DT ]:the\n",
            "[ADJ  -JJ ]:impossible\n"
          ]
        }
      ]
    },
    {
      "cell_type": "code",
      "source": [
        "from tokenizers import Tokenizer\n",
        "from tokenizers.models import WordPiece\n",
        "from tokenizers.normalizers import Sequence, NFD,Lowercase\n",
        "from tokenizers.pre_tokenizers import Whitespace\n",
        "\n",
        "tokenizer=Tokenizer(WordPiece())\n",
        "\n",
        "tokenizer.normalizer=Sequence([NFD(),Lowercase()])\n",
        "tokenizer.pre_tokenizer=Whitespace()\n",
        "\n",
        "tokenizer.train[\"데이터\"]\n",
        "tokenizer.save(\"저장 위치\")"
      ],
      "metadata": {
        "id": "zqwVHqLiDfuy"
      },
      "execution_count": null,
      "outputs": []
    },
    {
      "cell_type": "markdown",
      "source": [
        "마르코프 체인\n",
        "\n",
        "입력 데이터 간 연관성을 학습해서 확률 분포에 적용함\n",
        "\n",
        "n-gram\n",
        "\n"
      ],
      "metadata": {
        "id": "TEiDXbhvU3pF"
      }
    },
    {
      "cell_type": "code",
      "source": [
        "import nltk\n",
        "\n",
        "def ngrams(sentence,n):\n",
        "  words=sentence.split()\n",
        "  ngrams=zip(*[words[i:] for i in range(n)])\n",
        "  return list(ngrams)\n",
        "\n",
        "sentence=\"안녕하세요 만나서 진심으로 반가워요\"\n",
        "\n",
        "unigram=ngrams(sentence,1)\n",
        "\n",
        "bigram=ngrams(sentence,2)\n",
        "\n",
        "trigram=ngrams(sentence,3)\n",
        "\n",
        "print(unigram)\n",
        "print(bigram)\n",
        "print(trigram)\n",
        "\n",
        "unigram=nltk.ngrams(sentence.split(),1)\n",
        "bigram=nltk.ngrams(sentence.split(),2)\n",
        "trigram=nltk.ngrams(sentence.split(),3)\n",
        "print(list(unigram))\n",
        "print(list(bigram))\n",
        "print(list(trigram))"
      ],
      "metadata": {
        "colab": {
          "base_uri": "https://localhost:8080/"
        },
        "id": "-BT9N71qVwYD",
        "outputId": "37a9dff2-04a7-4b3b-b321-03ff00a205e3"
      },
      "execution_count": 37,
      "outputs": [
        {
          "output_type": "stream",
          "name": "stdout",
          "text": [
            "[('안녕하세요',), ('만나서',), ('진심으로',), ('반가워요',)]\n",
            "[('안녕하세요', '만나서'), ('만나서', '진심으로'), ('진심으로', '반가워요')]\n",
            "[('안녕하세요', '만나서', '진심으로'), ('만나서', '진심으로', '반가워요')]\n",
            "[('안녕하세요',), ('만나서',), ('진심으로',), ('반가워요',)]\n",
            "[('안녕하세요', '만나서'), ('만나서', '진심으로'), ('진심으로', '반가워요')]\n",
            "[('안녕하세요', '만나서', '진심으로'), ('만나서', '진심으로', '반가워요')]\n"
          ]
        }
      ]
    },
    {
      "cell_type": "markdown",
      "source": [
        "tf-idf\n",
        "\n",
        "등장 단어의 중요도 파악\n",
        "\n",
        "tf = 문서내 문장의 등장 빈도수\n",
        "\n",
        "df = 동일 단어가 얼마나 다른 문장에 등장하는 빈도수\n",
        "\n",
        "idf =  등장 횟수의 역로그를 취해서 출력, 출력 횟수가 크면 작게, 작으면 크게 나옴\n",
        "\n",
        "\n"
      ],
      "metadata": {
        "id": "0Ug7ovZMXNyU"
      }
    },
    {
      "cell_type": "markdown",
      "source": [
        "![image.png](data:image/png;base64,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)"
      ],
      "metadata": {
        "id": "w5pK2VolaN5k"
      }
    },
    {
      "cell_type": "markdown",
      "source": [
        "tf - idf = tf * idf\n",
        "\n"
      ],
      "metadata": {
        "id": "IB6kHh-Qah70"
      }
    },
    {
      "cell_type": "markdown",
      "source": [
        "![image.png](data:image/png;base64,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)"
      ],
      "metadata": {
        "id": "Su8gVuT7bHUj"
      }
    },
    {
      "cell_type": "code",
      "source": [
        "!pip install scikit-learn"
      ],
      "metadata": {
        "colab": {
          "base_uri": "https://localhost:8080/"
        },
        "id": "46uaPhTebjzk",
        "outputId": "90bdd66e-ecdd-4474-8ce4-24d54e371630"
      },
      "execution_count": 40,
      "outputs": [
        {
          "output_type": "stream",
          "name": "stdout",
          "text": [
            "Requirement already satisfied: scikit-learn in /usr/local/lib/python3.10/dist-packages (1.2.2)\n",
            "Requirement already satisfied: numpy>=1.17.3 in /usr/local/lib/python3.10/dist-packages (from scikit-learn) (1.25.2)\n",
            "Requirement already satisfied: scipy>=1.3.2 in /usr/local/lib/python3.10/dist-packages (from scikit-learn) (1.11.4)\n",
            "Requirement already satisfied: joblib>=1.1.1 in /usr/local/lib/python3.10/dist-packages (from scikit-learn) (1.4.2)\n",
            "Requirement already satisfied: threadpoolctl>=2.0.0 in /usr/local/lib/python3.10/dist-packages (from scikit-learn) (3.5.0)\n"
          ]
        }
      ]
    },
    {
      "cell_type": "code",
      "source": [
        "from sklearn.feature_extraction.text import TfidVectorizer\n",
        "tfidf_vectorizer=sklearn.feature_extraction.text.TfidVectorizer(\n",
        "    input=\"content\",\n",
        "    encoding=\"utf-8\",\n",
        "    lowercase=True,\n",
        "    stop_words=None,\n",
        "    ngram_range=(1,1),\n",
        "    max_df=1.0,\n",
        "    min_df=1,\n",
        "    vocabulary=None,\n",
        "    smooth_idf=True\n",
        ")"
      ],
      "metadata": {
        "colab": {
          "base_uri": "https://localhost:8080/",
          "height": 423
        },
        "id": "pcTFalNeWdN-",
        "outputId": "611523e5-38d7-4cf1-c3b8-9cdd0cbed7d8"
      },
      "execution_count": 42,
      "outputs": [
        {
          "output_type": "error",
          "ename": "ImportError",
          "evalue": "cannot import name 'TfidVectorizer' from 'sklearn.feature_extraction.text' (/usr/local/lib/python3.10/dist-packages/sklearn/feature_extraction/text.py)",
          "traceback": [
            "\u001b[0;31m---------------------------------------------------------------------------\u001b[0m",
            "\u001b[0;31mImportError\u001b[0m                               Traceback (most recent call last)",
            "\u001b[0;32m<ipython-input-42-cb60432fc516>\u001b[0m in \u001b[0;36m<cell line: 1>\u001b[0;34m()\u001b[0m\n\u001b[0;32m----> 1\u001b[0;31m \u001b[0;32mfrom\u001b[0m \u001b[0msklearn\u001b[0m\u001b[0;34m.\u001b[0m\u001b[0mfeature_extraction\u001b[0m\u001b[0;34m.\u001b[0m\u001b[0mtext\u001b[0m \u001b[0;32mimport\u001b[0m \u001b[0mTfidVectorizer\u001b[0m\u001b[0;34m\u001b[0m\u001b[0;34m\u001b[0m\u001b[0m\n\u001b[0m\u001b[1;32m      2\u001b[0m tfidf_vectorizer=sklearn.feature_extraction.text.TfidVectorizer(\n\u001b[1;32m      3\u001b[0m     \u001b[0minput\u001b[0m\u001b[0;34m=\u001b[0m\u001b[0;34m\"content\"\u001b[0m\u001b[0;34m,\u001b[0m\u001b[0;34m\u001b[0m\u001b[0;34m\u001b[0m\u001b[0m\n\u001b[1;32m      4\u001b[0m     \u001b[0mencoding\u001b[0m\u001b[0;34m=\u001b[0m\u001b[0;34m\"utf-8\"\u001b[0m\u001b[0;34m,\u001b[0m\u001b[0;34m\u001b[0m\u001b[0;34m\u001b[0m\u001b[0m\n\u001b[1;32m      5\u001b[0m     \u001b[0mlowercase\u001b[0m\u001b[0;34m=\u001b[0m\u001b[0;32mTrue\u001b[0m\u001b[0;34m,\u001b[0m\u001b[0;34m\u001b[0m\u001b[0;34m\u001b[0m\u001b[0m\n",
            "\u001b[0;31mImportError\u001b[0m: cannot import name 'TfidVectorizer' from 'sklearn.feature_extraction.text' (/usr/local/lib/python3.10/dist-packages/sklearn/feature_extraction/text.py)",
            "",
            "\u001b[0;31m---------------------------------------------------------------------------\u001b[0;32m\nNOTE: If your import is failing due to a missing package, you can\nmanually install dependencies using either !pip or !apt.\n\nTo view examples of installing some common dependencies, click the\n\"Open Examples\" button below.\n\u001b[0;31m---------------------------------------------------------------------------\u001b[0m\n"
          ],
          "errorDetails": {
            "actions": [
              {
                "action": "open_url",
                "actionText": "Open Examples",
                "url": "/notebooks/snippets/importing_libraries.ipynb"
              }
            ]
          }
        }
      ]
    },
    {
      "cell_type": "code",
      "source": [
        "from sklearn.feature_extraction.text import TfidVectorizer\n",
        "corpus=[\n",
        "    \"that movie was fun\",\n",
        "    \"i like this actor\",\n",
        "    \"i don't like that actor\"\n",
        "]\n",
        "\n",
        "tfidf_vectorizer=TfidVectorizer()\n",
        "tfidf_vectorizer.fit(corpus)\n",
        "tfidf_matrix=tfidf_vectorizer.transform(corpus)\n",
        "\n",
        "print(tfidf_matrix.toarray())\n",
        "print(tfdif_vectorizer.vocabulary_)"
      ],
      "metadata": {
        "colab": {
          "base_uri": "https://localhost:8080/",
          "height": 423
        },
        "id": "QdXVNgnXcA-M",
        "outputId": "358f12ed-7562-4d43-832a-c455b34237e1"
      },
      "execution_count": 43,
      "outputs": [
        {
          "output_type": "error",
          "ename": "ImportError",
          "evalue": "cannot import name 'TfidVectorizer' from 'sklearn.feature_extraction.text' (/usr/local/lib/python3.10/dist-packages/sklearn/feature_extraction/text.py)",
          "traceback": [
            "\u001b[0;31m---------------------------------------------------------------------------\u001b[0m",
            "\u001b[0;31mImportError\u001b[0m                               Traceback (most recent call last)",
            "\u001b[0;32m<ipython-input-43-7e8a2f8fd771>\u001b[0m in \u001b[0;36m<cell line: 1>\u001b[0;34m()\u001b[0m\n\u001b[0;32m----> 1\u001b[0;31m \u001b[0;32mfrom\u001b[0m \u001b[0msklearn\u001b[0m\u001b[0;34m.\u001b[0m\u001b[0mfeature_extraction\u001b[0m\u001b[0;34m.\u001b[0m\u001b[0mtext\u001b[0m \u001b[0;32mimport\u001b[0m \u001b[0mTfidVectorizer\u001b[0m\u001b[0;34m\u001b[0m\u001b[0;34m\u001b[0m\u001b[0m\n\u001b[0m\u001b[1;32m      2\u001b[0m corpus=[\n\u001b[1;32m      3\u001b[0m     \u001b[0;34m\"that movie was fun\"\u001b[0m\u001b[0;34m,\u001b[0m\u001b[0;34m\u001b[0m\u001b[0;34m\u001b[0m\u001b[0m\n\u001b[1;32m      4\u001b[0m     \u001b[0;34m\"i like this actor\"\u001b[0m\u001b[0;34m,\u001b[0m\u001b[0;34m\u001b[0m\u001b[0;34m\u001b[0m\u001b[0m\n\u001b[1;32m      5\u001b[0m     \u001b[0;34m\"i don't like that actor\"\u001b[0m\u001b[0;34m\u001b[0m\u001b[0;34m\u001b[0m\u001b[0m\n",
            "\u001b[0;31mImportError\u001b[0m: cannot import name 'TfidVectorizer' from 'sklearn.feature_extraction.text' (/usr/local/lib/python3.10/dist-packages/sklearn/feature_extraction/text.py)",
            "",
            "\u001b[0;31m---------------------------------------------------------------------------\u001b[0;32m\nNOTE: If your import is failing due to a missing package, you can\nmanually install dependencies using either !pip or !apt.\n\nTo view examples of installing some common dependencies, click the\n\"Open Examples\" button below.\n\u001b[0;31m---------------------------------------------------------------------------\u001b[0m\n"
          ],
          "errorDetails": {
            "actions": [
              {
                "action": "open_url",
                "actionText": "Open Examples",
                "url": "/notebooks/snippets/importing_libraries.ipynb"
              }
            ]
          }
        }
      ]
    },
    {
      "cell_type": "markdown",
      "source": [
        "word2vec\n",
        "\n",
        "분포 가설 = 같은 문맥에서 등장하는 자주 등장하는 단어는 서로 유사한 의미를 가질 가능성이 높음\n",
        "\n",
        "단어 벡터화\n",
        "  - 희소 표현 = 코퍼스의 갯수에 따라서 벡터의 갯수가 정해짐\n",
        "  - 밀집 표현 = 이미 지정된 차원의 벡터 개수에 맞춰 각 벡터를 표현함"
      ],
      "metadata": {
        "id": "8NTNcXKKdJXr"
      }
    },
    {
      "cell_type": "markdown",
      "source": [
        "밀집표현의 방식\n",
        "  - cbow = 중심 단어를 기준으로 윈도우 크기만큼 비교함\n",
        "\n",
        "  각 입력 단어의 원-핫 벡터를 입력값으로 받고\n",
        "  문장 내의 모든 단어의 임베딩 벡터를 평균내어 중심 벡터 파악\n",
        "  \n",
        "\n"
      ],
      "metadata": {
        "id": "-MMi1orMfGE7"
      }
    },
    {
      "cell_type": "markdown",
      "source": [
        "![image.png](data:image/png;base64,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)\n",
        "\n",
        "![image.png](data:image/png;base64,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)"
      ],
      "metadata": {
        "id": "8pwqOIbfgbRM"
      }
    },
    {
      "cell_type": "markdown",
      "source": [
        "skip-gram\n",
        "- 중심 단어를 받아서 주변 벡터 예측함\n"
      ],
      "metadata": {
        "id": "jV104wlbhQGS"
      }
    },
    {
      "cell_type": "markdown",
      "source": [
        "계층적 소프트맥스\n",
        "- 자주 등장하는 단어를 상위층에, 안 등장하는 단어를 하위층에 배치함\n",
        "- 각 단어의 확률은 경로노드의 확률을 곱해서 표현함\n",
        "\n",
        "네거티브 샘플링\n",
        "- 전체 단어에서 일부 단어를 샘플링해서 오답 단어로 사용함\n",
        "\n",
        "- 입력 데이터와 출력 데이터가 맞는지 아닌지에 대한 이진 분류로 바뀌게 됨\n"
      ],
      "metadata": {
        "id": "99mF7XN2ipLj"
      }
    },
    {
      "cell_type": "code",
      "source": [
        "import torch"
      ],
      "metadata": {
        "id": "cSJahe44k5w7"
      },
      "execution_count": 45,
      "outputs": []
    },
    {
      "cell_type": "code",
      "source": [
        "embedding=torch.nn.Embedding(\n",
        "  num_embeddings,\n",
        "  embeddings_dim, #임베딩 차원 갯수\n",
        "  padding_idx=None, #문장 길이를 일정 길이로 패딩\n",
        "  max_norm=None, #임베딩 벡터 크기 제한\n",
        "  norm_type=2.0 # 임베딩 벡터의 최대 크기\n",
        ")"
      ],
      "metadata": {
        "colab": {
          "base_uri": "https://localhost:8080/",
          "height": 221
        },
        "id": "ZxPR6SHklDmL",
        "outputId": "a12d8285-bdb8-4287-fe35-636d1c601e60"
      },
      "execution_count": 48,
      "outputs": [
        {
          "output_type": "error",
          "ename": "NameError",
          "evalue": "name 'num_embeddings' is not defined",
          "traceback": [
            "\u001b[0;31m---------------------------------------------------------------------------\u001b[0m",
            "\u001b[0;31mNameError\u001b[0m                                 Traceback (most recent call last)",
            "\u001b[0;32m<ipython-input-48-66c734139563>\u001b[0m in \u001b[0;36m<cell line: 1>\u001b[0;34m()\u001b[0m\n\u001b[1;32m      1\u001b[0m embedding=torch.nn.Embedding(\n\u001b[0;32m----> 2\u001b[0;31m   \u001b[0mnum_embeddings\u001b[0m\u001b[0;34m,\u001b[0m\u001b[0;34m\u001b[0m\u001b[0;34m\u001b[0m\u001b[0m\n\u001b[0m\u001b[1;32m      3\u001b[0m   \u001b[0membeddings_dim\u001b[0m\u001b[0;34m,\u001b[0m \u001b[0;31m#임베딩 차원 갯수\u001b[0m\u001b[0;34m\u001b[0m\u001b[0;34m\u001b[0m\u001b[0m\n\u001b[1;32m      4\u001b[0m   \u001b[0mpadding_idx\u001b[0m\u001b[0;34m=\u001b[0m\u001b[0;32mNone\u001b[0m\u001b[0;34m,\u001b[0m \u001b[0;31m#문장 길이를 일정 길이로 패딩\u001b[0m\u001b[0;34m\u001b[0m\u001b[0;34m\u001b[0m\u001b[0m\n\u001b[1;32m      5\u001b[0m   \u001b[0mmax_norm\u001b[0m\u001b[0;34m=\u001b[0m\u001b[0;32mNone\u001b[0m\u001b[0;34m,\u001b[0m \u001b[0;31m#임베딩 벡터 크기 제한\u001b[0m\u001b[0;34m\u001b[0m\u001b[0;34m\u001b[0m\u001b[0m\n",
            "\u001b[0;31mNameError\u001b[0m: name 'num_embeddings' is not defined"
          ]
        }
      ]
    },
    {
      "cell_type": "code",
      "source": [
        "from torch import nn\n",
        "\n",
        "class VanillaSkipgram(nn.Module):\n",
        "  def __init__(self,vocab_size,embedding_dim):\n",
        "    super().__init__()\n",
        "    self.embedding=nn.Embedding(\n",
        "        num_embeddings=vocab_size,\n",
        "        embedding_dim=embedding_dim\n",
        "    )\n",
        "    self.linear=nn.Linear(\n",
        "        in_features=embedding_dim,\n",
        "        out_features=vocab_size\n",
        "    )\n",
        "\n",
        "  def forward(self,input_ids):\n",
        "    embeddings=self.embedding(input_ids)\n",
        "    output=self.linear(embeddings)\n",
        "    return output"
      ],
      "metadata": {
        "id": "oMf3L0yBgcj7"
      },
      "execution_count": 47,
      "outputs": []
    },
    {
      "cell_type": "code",
      "source": [
        "!pip install Korpora\n"
      ],
      "metadata": {
        "colab": {
          "base_uri": "https://localhost:8080/",
          "height": 414
        },
        "id": "5zJWUw01m0zi",
        "outputId": "5787f8d4-ffc4-41a5-a4cc-4bef1b2f6bd3"
      },
      "execution_count": 50,
      "outputs": [
        {
          "output_type": "stream",
          "name": "stdout",
          "text": [
            "Collecting Korpora\n",
            "  Downloading Korpora-0.2.0-py3-none-any.whl (57 kB)\n",
            "\u001b[?25l     \u001b[90m━━━━━━━━━━━━━━━━━━━━━━━━━━━━━━━━━━━━━━━━\u001b[0m \u001b[32m0.0/57.8 kB\u001b[0m \u001b[31m?\u001b[0m eta \u001b[36m-:--:--\u001b[0m\r\u001b[2K     \u001b[90m━━━━━━━━━━━━━━━━━━━━━━━━━━━━━━━━━━━━━━━━\u001b[0m \u001b[32m57.8/57.8 kB\u001b[0m \u001b[31m1.5 MB/s\u001b[0m eta \u001b[36m0:00:00\u001b[0m\n",
            "\u001b[?25hCollecting dataclasses>=0.6 (from Korpora)\n",
            "  Downloading dataclasses-0.6-py3-none-any.whl (14 kB)\n",
            "Requirement already satisfied: numpy>=1.18.0 in /usr/local/lib/python3.10/dist-packages (from Korpora) (1.25.2)\n",
            "Requirement already satisfied: tqdm>=4.46.0 in /usr/local/lib/python3.10/dist-packages (from Korpora) (4.66.4)\n",
            "Requirement already satisfied: requests>=2.20.0 in /usr/local/lib/python3.10/dist-packages (from Korpora) (2.31.0)\n",
            "Requirement already satisfied: xlrd>=1.2.0 in /usr/local/lib/python3.10/dist-packages (from Korpora) (2.0.1)\n",
            "Requirement already satisfied: charset-normalizer<4,>=2 in /usr/local/lib/python3.10/dist-packages (from requests>=2.20.0->Korpora) (3.3.2)\n",
            "Requirement already satisfied: idna<4,>=2.5 in /usr/local/lib/python3.10/dist-packages (from requests>=2.20.0->Korpora) (3.7)\n",
            "Requirement already satisfied: urllib3<3,>=1.21.1 in /usr/local/lib/python3.10/dist-packages (from requests>=2.20.0->Korpora) (2.0.7)\n",
            "Requirement already satisfied: certifi>=2017.4.17 in /usr/local/lib/python3.10/dist-packages (from requests>=2.20.0->Korpora) (2024.6.2)\n",
            "Installing collected packages: dataclasses, Korpora\n",
            "Successfully installed Korpora-0.2.0 dataclasses-0.6\n"
          ]
        },
        {
          "output_type": "display_data",
          "data": {
            "application/vnd.colab-display-data+json": {
              "pip_warning": {
                "packages": [
                  "dataclasses"
                ]
              },
              "id": "14b52b2fcb9247d0b7649b1b550790cd"
            }
          },
          "metadata": {}
        }
      ]
    },
    {
      "cell_type": "code",
      "source": [
        "import pandas as pd\n",
        "from Korpora import Korpora\n",
        "from konlpy.tag import Okt\n",
        "\n",
        "corpus=Korpora.load(\"nsmc\")\n",
        "corpus=pd.DataFrame(corpus.test)\n",
        "\n",
        "tokenizer=Okt()\n",
        "tokens=[tokenizer.morphs(review) for review in corpus.text]\n",
        "print(tokens[:3])"
      ],
      "metadata": {
        "colab": {
          "base_uri": "https://localhost:8080/"
        },
        "id": "01myXvmimXL7",
        "outputId": "3216b7fe-40bb-41c0-9372-474d3b5c263e"
      },
      "execution_count": 1,
      "outputs": [
        {
          "output_type": "stream",
          "name": "stdout",
          "text": [
            "\n",
            "    Korpora 는 다른 분들이 연구 목적으로 공유해주신 말뭉치들을\n",
            "    손쉽게 다운로드, 사용할 수 있는 기능만을 제공합니다.\n",
            "\n",
            "    말뭉치들을 공유해 주신 분들에게 감사드리며, 각 말뭉치 별 설명과 라이센스를 공유 드립니다.\n",
            "    해당 말뭉치에 대해 자세히 알고 싶으신 분은 아래의 description 을 참고,\n",
            "    해당 말뭉치를 연구/상용의 목적으로 이용하실 때에는 아래의 라이센스를 참고해 주시기 바랍니다.\n",
            "\n",
            "    # Description\n",
            "    Author : e9t@github\n",
            "    Repository : https://github.com/e9t/nsmc\n",
            "    References : www.lucypark.kr/docs/2015-pyconkr/#39\n",
            "\n",
            "    Naver sentiment movie corpus v1.0\n",
            "    This is a movie review dataset in the Korean language.\n",
            "    Reviews were scraped from Naver Movies.\n",
            "\n",
            "    The dataset construction is based on the method noted in\n",
            "    [Large movie review dataset][^1] from Maas et al., 2011.\n",
            "\n",
            "    [^1]: http://ai.stanford.edu/~amaas/data/sentiment/\n",
            "\n",
            "    # License\n",
            "    CC0 1.0 Universal (CC0 1.0) Public Domain Dedication\n",
            "    Details in https://creativecommons.org/publicdomain/zero/1.0/\n",
            "\n"
          ]
        },
        {
          "output_type": "stream",
          "name": "stderr",
          "text": [
            "[nsmc] download ratings_train.txt: 14.6MB [00:00, 154MB/s]\n",
            "[nsmc] download ratings_test.txt: 4.90MB [00:00, 99.7MB/s]\n"
          ]
        },
        {
          "output_type": "stream",
          "name": "stdout",
          "text": [
            "[['굳', 'ㅋ'], ['GDNTOPCLASSINTHECLUB'], ['뭐', '야', '이', '평점', '들', '은', '....', '나쁘진', '않지만', '10', '점', '짜', '리', '는', '더', '더욱', '아니잖아']]\n"
          ]
        }
      ]
    },
    {
      "cell_type": "code",
      "source": [
        "from collections import Counter\n",
        "\n",
        "def build_vocab(corpus,n_vocab,special_tokens):\n",
        "  counter=Counter()\n",
        "  for tokens in corpus:\n",
        "    counter.update(tokens)\n",
        "  vocab=special_tokens #oov(모르는 단어)가 생기면 스페셜 토큰으로 변경시킴\n",
        "  for token, count in counter.most_common(n_vocab):\n",
        "    vocab.append(token)\n",
        "  return vocab\n",
        "\n",
        "vocab=build_vocab(corpus=tokens,n_vocab=5000,special_tokens=[\"<unk>\"])\n",
        "token_to_id={token:idx for idx, token in enumerate(vocab)}\n",
        "id_to_token={idx:token for idx, token in enumerate(vocab)}\n",
        "\n",
        "print(vocab[:10])\n",
        "print(len(vocab))"
      ],
      "metadata": {
        "colab": {
          "base_uri": "https://localhost:8080/"
        },
        "id": "ZtatJiGymvN0",
        "outputId": "5eb9649d-46fd-4142-88ea-636eb83598c0"
      },
      "execution_count": 7,
      "outputs": [
        {
          "output_type": "stream",
          "name": "stdout",
          "text": [
            "['<unk>', '.', '이', '영화', '의', '..', '가', '에', '...', '을']\n",
            "5001\n"
          ]
        }
      ]
    },
    {
      "cell_type": "code",
      "source": [
        "def get_word_pairs(tokens,window_size): #skipgram을 통한 단어쌍 추출\n",
        "  pairs=[]\n",
        "  for sentence in tokens:\n",
        "    sentence_length=len(sentence)\n",
        "    for idx,center_word in enumerate(sentence):\n",
        "      window_start=max(0,idx-window_size)\n",
        "      window_end=min(sentence_length,idx+window_size+1)\n",
        "      center_word=sentence[idx]\n",
        "      context_words=sentence[window_start:idx]+sentence[idx+1:window_end]\n",
        "      for context_word in context_words:\n",
        "        pairs.append([center_word,context_word])\n",
        "\n",
        "  return pairs\n",
        "\n",
        "word_pairs=get_word_pairs(tokens,window_size=2)\n",
        "print(word_pairs[:5])"
      ],
      "metadata": {
        "colab": {
          "base_uri": "https://localhost:8080/"
        },
        "id": "HH7-LgkDpoi7",
        "outputId": "2e55f60f-88d1-4205-fc11-23a688f392a2"
      },
      "execution_count": 8,
      "outputs": [
        {
          "output_type": "stream",
          "name": "stdout",
          "text": [
            "[['굳', 'ㅋ'], ['ㅋ', '굳'], ['뭐', '야'], ['뭐', '이'], ['야', '뭐']]\n"
          ]
        }
      ]
    },
    {
      "cell_type": "code",
      "source": [
        "def get_index_pairs(word_pairs,token_to_id):#단어쌍의 인덱스 쌍으로 변환\n",
        "  pairs=[]\n",
        "  unk_index=token_to_id[\"<unk>\"]\n",
        "  for word_pair in word_pairs:\n",
        "    center_word,context_word=word_pair\n",
        "    center_index=token_to_id.get(center_word,unk_index)\n",
        "    context_index=token_to_id.get(context_word,unk_index)\n",
        "    pairs.append([center_index,context_index])\n",
        "  return pairs\n",
        "\n",
        "index_pairs=get_index_pairs(word_pairs,token_to_id)\n",
        "print(index_pairs[:5])"
      ],
      "metadata": {
        "colab": {
          "base_uri": "https://localhost:8080/"
        },
        "id": "Qb2I_XZjrAyy",
        "outputId": "fb276ab7-589a-4e62-a500-996398c9a13e"
      },
      "execution_count": 9,
      "outputs": [
        {
          "output_type": "stream",
          "name": "stdout",
          "text": [
            "[[595, 100], [100, 595], [77, 176], [77, 2], [176, 77]]\n"
          ]
        }
      ]
    },
    {
      "cell_type": "code",
      "source": [
        "import torch\n",
        "from torch.utils.data import TensorDataset, DataLoader #데이터셋 로드\n",
        "\n",
        "index_pairs=torch.tensor(index_pairs)\n",
        "center_indexs=index_pairs[:,0]\n",
        "context_indexs=index_pairs[:,1]\n",
        "\n",
        "dataset=TensorDataset(center_indexs,context_indexs)\n",
        "dataloaer=DataLoader(dataset,batch_size=32,shuffle=True)"
      ],
      "metadata": {
        "colab": {
          "base_uri": "https://localhost:8080/"
        },
        "id": "ocnDG2TOsaF7",
        "outputId": "c61b55d4-ea67-4bfd-ac89-0b889e6ea61d"
      },
      "execution_count": 11,
      "outputs": [
        {
          "output_type": "stream",
          "name": "stderr",
          "text": [
            "<ipython-input-11-c78058d6a836>:4: UserWarning: To copy construct from a tensor, it is recommended to use sourceTensor.clone().detach() or sourceTensor.clone().detach().requires_grad_(True), rather than torch.tensor(sourceTensor).\n",
            "  index_pairs=torch.tensor(index_pairs)\n"
          ]
        }
      ]
    },
    {
      "cell_type": "code",
      "source": [],
      "metadata": {
        "id": "gUe2jubitFxK"
      },
      "execution_count": null,
      "outputs": []
    },
    {
      "cell_type": "markdown",
      "source": [
        "각 단어에 임베딩을 적용해 벡터를 구함\n",
        "\n",
        "해당 벡터들의 코사인 유사도를 통한 단어간의 유사도 계산  "
      ],
      "metadata": {
        "id": "-fpLBt5VtdyZ"
      }
    }
  ]
}